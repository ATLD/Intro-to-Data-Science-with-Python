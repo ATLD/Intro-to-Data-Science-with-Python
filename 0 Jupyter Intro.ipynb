{
 "cells": [
  {
   "cell_type": "markdown",
   "metadata": {},
   "source": [
    "# Welcome to Jupyter Notebooks\n",
    "\n",
    "[Jupyter][1] notebooks have become very popular in recent years. They allow you to combine code, text, visualizations and other web-based elements all in a single place and are great for collaboration.\n",
    "\n",
    "### Notebook basics\n",
    "A notebook is composed of cells. There are two main types of cells - **code** and **markdown**. Each cell defaults to a code cell that is capable of running Python (or the chosen kernel). The cell you are looking at right now is a markdown cell. Markdown cells are used whenever text or images need to be embedded into the notebook such as this explanation that you are reading. Code cells are denoted with `In [ ]` and if they produce output have `Out [ ]` directly underneath.\n",
    "\n",
    "There are two modes for all cell types - **edit** and **command**. Edit mode allows you to physically modify the contents of the cell by typing. This cell that you are currently reading is in command mode. \n",
    "\n",
    "How to tell which mode you are in? There are two ways. If the outline of the cell is **blue** then you are in command mode and if its **green** then you are in edit mode. Also, if you are in edit mode a small pencil will appear in the top right corner of this notebook to the left of the name of the kernel, which happens to be 'Python 3' in this case. Only one cell is **active** at all times and that is the one that is outlined in blue/green. \n",
    "\n",
    "In command mode, the keys do not write any contents to the cells. Instead, the do special actions. For instance, if this current cell is highlighted blue (which means its in command mode) press the key **B**. This adds a new cell directly below this one. Click back on this cell so that its highlighted blue again.\n",
    "\n",
    "#### Switching between edit mode and command mode\n",
    "To enter **edit** mode press **enter** in an active cell.  Alternatively, **double click** somewhere inside this cell, which will first reveal the markdown and then click anywhere you'd like to edit. You will know you are in edit mode when the cell outline is green, the pencil appears in the top right corner, have your normal blinking cursor and you keyboard allows you to modify the content of the cells.\n",
    "\n",
    "To return the markdown cell back to command mode, you can **run** the cell by pressing **shift** + **enter**. This will move you down into the next cell and return you to command mode. Alternatively, you may press **ctrl** + **enter** to run the cell but this keeps the current cell active.\n",
    "\n",
    "Alternatively, you may press **esc** at any time to go to command mode.\n",
    "\n",
    "### More on command mode\n",
    "When you are in command mode, your keyboard is transformed such that many of the keys do special tasks. To see these tasks go to the **help** menu and choose keyboard shortcuts. Alternatively, just press **h** while in command mode. Take a look at some of these extra abilities provided with the command mode.\n",
    "\n",
    "### Raw NBConvert\n",
    "This is other type of notebook cell. These cells only have raw text. No enhancements from markdown and no code running. Just plain text.\n",
    "\n",
    "### More on markdown\n",
    "Markdown is a very useful concise syntax for quickly developing web documents without writing HTML. See [this tutorial][2] for more.\n",
    "\n",
    "[1]: http://jupyter.org/\n",
    "[2]: http://commonmark.org/help/tutorial/"
   ]
  },
  {
   "cell_type": "markdown",
   "metadata": {},
   "source": [
    "## Running Code in the Notebook\n",
    "This particular notebook is connected to an IPython kernel which is executing all the Python. Modern web browsers do not run Python code. Any python code that you write is sent to the kernel which the responds with the result. This result is then displayed. Take for instance the next cell which adds two numbers.\n",
    "\n",
    "Run the cell by pressing **shift** + **enter**"
   ]
  },
  {
   "cell_type": "code",
   "execution_count": 12,
   "metadata": {},
   "outputs": [],
   "source": [
    "# press shift enter to execute this cell\n",
    "5 + 4"
   ]
  },
  {
   "cell_type": "markdown",
   "metadata": {},
   "source": [
    "## Best features of the notebook\n",
    "### Tab code completion\n",
    "Since the notebook is running directly off of IPython it takes advantage of all it has to offer. One of the most common and popular features is tab completion. Place your cursor after the dot below and press tab. A menu should pop up of all the available choices."
   ]
  },
  {
   "cell_type": "code",
   "execution_count": 13,
   "metadata": {
    "collapsed": true
   },
   "outputs": [],
   "source": [
    "# run this cell\n",
    "import pandas as pd"
   ]
  },
  {
   "cell_type": "code",
   "execution_count": null,
   "metadata": {
    "collapsed": true
   },
   "outputs": [],
   "source": [
    "# place your cursor after the dot and press tab\n",
    "pd."
   ]
  },
  {
   "cell_type": "markdown",
   "metadata": {},
   "source": [
    "### Docstring help\n",
    "Now we will pop up the docstrings. After we choose an object we can press **shift** + **tab** + **tab** to pop up the docstrings which are immensely helpful in giving us information on how to use the object."
   ]
  },
  {
   "cell_type": "code",
   "execution_count": null,
   "metadata": {
    "collapsed": true
   },
   "outputs": [],
   "source": [
    "# put the cursor in the word DataFrame and press 'shift + tab + tab'\n",
    "pd.DataFrame()"
   ]
  },
  {
   "cell_type": "markdown",
   "metadata": {},
   "source": [
    "# Python Data Science Stack\n",
    "\n",
    "The next few notebooks will cover the very basics of \n",
    "+ NumPy\n",
    "+ pandas\n",
    "+ Matplotlib\n",
    "+ Seaborn\n",
    "+ statsmodels\n",
    "+ scikit-learn\n",
    "+ bokeh\n",
    "\n",
    "The foundation of scientific computing in Python relies heavily on the library NumPy. NumPy is a low-level library that does extremely fast (for Python standards) array computations. pandas is a higher level library that gives its users much nicer data structures for manipulating and analyzing data. Matplotlib is the most widely-used Python visualization Python library with Seaborn enhancing it. statsmodels has lots of power to do a variety of statistical testing. scikit-learn provides machine learning and bokeh is an up and coming interactive visualization library helpful in deploying apps to the web.\n",
    "\n",
    "![img][1]\n",
    "\n",
    "[1]: https://raw.githubusercontent.com/ahirner/smart-factory-audi/master/aux-info/Vanderplas_Python_Stack.png"
   ]
  },
  {
   "cell_type": "markdown",
   "metadata": {},
   "source": [
    "## References\n",
    "* [Jupyter official documentation][1]\n",
    "* [Tutorial part of Jupyter documentation][2]\n",
    "\n",
    "[1]: http://jupyter-notebook.readthedocs.io/en/latest/\n",
    "[2]: http://jupyter-notebook.readthedocs.io/en/latest/examples/Notebook/What%20is%20the%20Jupyter%20Notebook.html"
   ]
  }
 ],
 "metadata": {
  "kernelspec": {
   "display_name": "Python 3",
   "language": "python",
   "name": "python3"
  },
  "language_info": {
   "codemirror_mode": {
    "name": "ipython",
    "version": 3
   },
   "file_extension": ".py",
   "mimetype": "text/x-python",
   "name": "python",
   "nbconvert_exporter": "python",
   "pygments_lexer": "ipython3",
   "version": "3.6.1"
  }
 },
 "nbformat": 4,
 "nbformat_minor": 2
}
