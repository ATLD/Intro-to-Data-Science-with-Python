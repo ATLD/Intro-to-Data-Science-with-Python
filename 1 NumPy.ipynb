{
 "cells": [
  {
   "cell_type": "markdown",
   "metadata": {},
   "source": [
    "# Intro to NumPy\n",
    "NumPy is the most fundamental library to scientific computing in Python. It forms the basis for most of the important data science libraries like pandas and scikit-learn.\n",
    "\n",
    "The main data structure that NumPy provides is the n-dimensional array object or **`ndarray`**. ndarray objects may be any number of dimensions. Typically in data science we are dealing with two dimensional tabular data of rows and columns so here we will begin by creating an array of random values from a normal distribution and do some basic analysis on it."
   ]
  },
  {
   "cell_type": "code",
   "execution_count": 2,
   "metadata": {
    "collapsed": true
   },
   "outputs": [],
   "source": [
    "import numpy as np"
   ]
  },
  {
   "cell_type": "markdown",
   "metadata": {},
   "source": [
    "## Create first array\n",
    "To get things started we will create an array with numbers generated from a random normal distribution with mean 0 and standard deviation 1."
   ]
  },
  {
   "cell_type": "code",
   "execution_count": 16,
   "metadata": {},
   "outputs": [
    {
     "data": {
      "text/plain": [
       "array([[-1.09,  1.  ,  0.28, -1.51, -0.58,  1.65, -2.43],\n",
       "       [-0.43,  1.27, -0.87, -0.68, -0.09,  1.49, -0.64],\n",
       "       [-0.44, -0.43,  2.21,  2.19,  1.  ,  0.39,  0.74],\n",
       "       [ 1.49, -0.94,  1.18, -1.25, -0.64,  0.91, -1.43],\n",
       "       [-0.14, -0.86, -0.26, -2.8 , -1.77, -0.7 ,  0.93],\n",
       "       [-0.17,  0.  ,  0.69, -0.88,  0.28, -0.81, -1.73],\n",
       "       [-0.39,  0.57,  0.34, -0.01,  2.39,  0.41,  0.98],\n",
       "       [ 2.24, -1.29, -1.04,  1.74, -0.8 ,  0.03,  1.07],\n",
       "       [ 0.89,  1.75,  1.5 ,  1.07, -0.77,  0.79,  0.31],\n",
       "       [-1.33,  1.42,  0.81,  0.05, -0.23, -1.2 ,  0.2 ],\n",
       "       [ 0.47, -0.83,  1.16, -1.1 , -2.12,  1.04, -0.4 ],\n",
       "       [-0.13, -0.84, -1.61,  1.26, -0.69,  1.66,  0.81],\n",
       "       [-0.31, -1.09, -0.73, -1.21,  2.09,  0.16,  1.15],\n",
       "       [-1.27,  0.18,  1.18, -0.34,  1.03, -1.08, -1.36],\n",
       "       [ 0.38, -0.38,  0.64, -1.98,  0.71,  2.6 , -0.02],\n",
       "       [ 0.03,  0.18, -1.86,  0.43, -1.61, -0.43,  1.24],\n",
       "       [-0.74,  0.5 ,  1.01,  0.28, -1.37, -0.33,  1.96],\n",
       "       [-2.03, -0.28, -0.55,  0.12,  0.75,  1.61, -0.27],\n",
       "       [ 0.81,  0.5 ,  0.47, -0.56, -1.  , -1.1 , -0.76],\n",
       "       [ 0.32,  0.76,  0.32, -0.55,  1.81,  1.52, -0.35],\n",
       "       [-0.82,  0.13,  1.27,  0.33,  0.56, -0.21,  0.46],\n",
       "       [ 1.54, -0.24,  0.14,  0.25,  0.28, -1.41, -1.88],\n",
       "       [-1.02,  0.17,  0.55, -0.53,  1.38, -0.14,  0.02],\n",
       "       [-0.19,  0.13,  0.7 ,  0.67, -0.9 ,  1.52, -1.1 ],\n",
       "       [ 0.08, -0.27, -1.05, -0.08, -0.74,  0.07,  0.4 ],\n",
       "       [ 1.47,  0.31, -0.61, -0.39,  0.14,  0.09,  1.46],\n",
       "       [ 1.4 , -0.36, -0.55, -2.56, -0.55, -0.98, -0.35],\n",
       "       [ 0.39,  0.18, -0.03,  0.2 , -0.13,  0.2 , -3.23],\n",
       "       [-0.27, -0.11, -0.34, -0.22,  0.7 , -0.6 ,  2.2 ],\n",
       "       [ 0.69, -0.01, -0.21, -0.09, -0.92, -0.1 ,  0.28]])"
      ]
     },
     "execution_count": 16,
     "metadata": {},
     "output_type": "execute_result"
    }
   ],
   "source": [
    "np.random.seed(123)\n",
    "array = np.random.randn(30, 7)\n",
    "array = array.round(2)\n",
    "array"
   ]
  },
  {
   "cell_type": "markdown",
   "metadata": {},
   "source": [
    "### Accessing elements\n",
    "In native Python, the indexing operator, the brackets **[]**, select items from a container. This is most commonly done in tuples, lists and dictionaries. ndarrays use the same operator for selection. \n",
    "\n",
    "To select a single element simply place the index of the row and column inside the brackets separated by a comma."
   ]
  },
  {
   "cell_type": "code",
   "execution_count": 17,
   "metadata": {},
   "outputs": [
    {
     "data": {
      "text/plain": [
       "-1.1000000000000001"
      ]
     },
     "execution_count": 17,
     "metadata": {},
     "output_type": "execute_result"
    }
   ],
   "source": [
    "array[10, 3]"
   ]
  },
  {
   "cell_type": "code",
   "execution_count": 18,
   "metadata": {},
   "outputs": [
    {
     "data": {
      "text/plain": [
       "-1.0900000000000001"
      ]
     },
     "execution_count": 18,
     "metadata": {},
     "output_type": "execute_result"
    }
   ],
   "source": [
    "# it is 0 indexed\n",
    "array[0, 0]"
   ]
  },
  {
   "cell_type": "code",
   "execution_count": 20,
   "metadata": {},
   "outputs": [
    {
     "data": {
      "text/plain": [
       "array([ 1.65,  1.49,  0.39,  0.91, -0.7 , -0.81,  0.41,  0.03,  0.79,\n",
       "       -1.2 ,  1.04,  1.66,  0.16, -1.08,  2.6 , -0.43, -0.33,  1.61,\n",
       "       -1.1 ,  1.52, -0.21, -1.41, -0.14,  1.52,  0.07,  0.09, -0.98,\n",
       "        0.2 , -0.6 , -0.1 ])"
      ]
     },
     "execution_count": 20,
     "metadata": {},
     "output_type": "execute_result"
    }
   ],
   "source": [
    "# select all the rows of the 5th column\n",
    "array[:, 5]"
   ]
  },
  {
   "cell_type": "code",
   "execution_count": 22,
   "metadata": {},
   "outputs": [
    {
     "data": {
      "text/plain": [
       "array([[ 0.69, -0.88,  0.28],\n",
       "       [ 0.34, -0.01,  2.39],\n",
       "       [-1.04,  1.74, -0.8 ],\n",
       "       [ 1.5 ,  1.07, -0.77],\n",
       "       [ 0.81,  0.05, -0.23]])"
      ]
     },
     "execution_count": 22,
     "metadata": {},
     "output_type": "execute_result"
    }
   ],
   "source": [
    "# Use slice notation to select a block of data\n",
    "array[5:10, 2:5]"
   ]
  },
  {
   "cell_type": "code",
   "execution_count": 24,
   "metadata": {},
   "outputs": [
    {
     "data": {
      "text/plain": [
       "array([[ 1.49,  1.18, -0.64, -1.43],\n",
       "       [ 0.89,  1.5 , -0.77,  0.31],\n",
       "       [-1.27,  1.18,  1.03, -1.36]])"
      ]
     },
     "execution_count": 24,
     "metadata": {},
     "output_type": "execute_result"
    }
   ],
   "source": [
    "# start:stop:step notation\n",
    "array[3:18:5, ::2]"
   ]
  },
  {
   "cell_type": "markdown",
   "metadata": {},
   "source": [
    "## Operations on the entire array\n",
    "Applying an operation to entire array is easy and looks exactly how it would in normal mathematical notation. These operations are not so trivial with python lists"
   ]
  },
  {
   "cell_type": "code",
   "execution_count": 25,
   "metadata": {},
   "outputs": [
    {
     "data": {
      "text/plain": [
       "array([[ -5.45,   5.  ,   1.4 ,  -7.55,  -2.9 ,   8.25, -12.15],\n",
       "       [ -2.15,   6.35,  -4.35,  -3.4 ,  -0.45,   7.45,  -3.2 ],\n",
       "       [ -2.2 ,  -2.15,  11.05,  10.95,   5.  ,   1.95,   3.7 ],\n",
       "       [  7.45,  -4.7 ,   5.9 ,  -6.25,  -3.2 ,   4.55,  -7.15],\n",
       "       [ -0.7 ,  -4.3 ,  -1.3 , -14.  ,  -8.85,  -3.5 ,   4.65],\n",
       "       [ -0.85,   0.  ,   3.45,  -4.4 ,   1.4 ,  -4.05,  -8.65],\n",
       "       [ -1.95,   2.85,   1.7 ,  -0.05,  11.95,   2.05,   4.9 ],\n",
       "       [ 11.2 ,  -6.45,  -5.2 ,   8.7 ,  -4.  ,   0.15,   5.35],\n",
       "       [  4.45,   8.75,   7.5 ,   5.35,  -3.85,   3.95,   1.55],\n",
       "       [ -6.65,   7.1 ,   4.05,   0.25,  -1.15,  -6.  ,   1.  ],\n",
       "       [  2.35,  -4.15,   5.8 ,  -5.5 , -10.6 ,   5.2 ,  -2.  ],\n",
       "       [ -0.65,  -4.2 ,  -8.05,   6.3 ,  -3.45,   8.3 ,   4.05],\n",
       "       [ -1.55,  -5.45,  -3.65,  -6.05,  10.45,   0.8 ,   5.75],\n",
       "       [ -6.35,   0.9 ,   5.9 ,  -1.7 ,   5.15,  -5.4 ,  -6.8 ],\n",
       "       [  1.9 ,  -1.9 ,   3.2 ,  -9.9 ,   3.55,  13.  ,  -0.1 ],\n",
       "       [  0.15,   0.9 ,  -9.3 ,   2.15,  -8.05,  -2.15,   6.2 ],\n",
       "       [ -3.7 ,   2.5 ,   5.05,   1.4 ,  -6.85,  -1.65,   9.8 ],\n",
       "       [-10.15,  -1.4 ,  -2.75,   0.6 ,   3.75,   8.05,  -1.35],\n",
       "       [  4.05,   2.5 ,   2.35,  -2.8 ,  -5.  ,  -5.5 ,  -3.8 ],\n",
       "       [  1.6 ,   3.8 ,   1.6 ,  -2.75,   9.05,   7.6 ,  -1.75],\n",
       "       [ -4.1 ,   0.65,   6.35,   1.65,   2.8 ,  -1.05,   2.3 ],\n",
       "       [  7.7 ,  -1.2 ,   0.7 ,   1.25,   1.4 ,  -7.05,  -9.4 ],\n",
       "       [ -5.1 ,   0.85,   2.75,  -2.65,   6.9 ,  -0.7 ,   0.1 ],\n",
       "       [ -0.95,   0.65,   3.5 ,   3.35,  -4.5 ,   7.6 ,  -5.5 ],\n",
       "       [  0.4 ,  -1.35,  -5.25,  -0.4 ,  -3.7 ,   0.35,   2.  ],\n",
       "       [  7.35,   1.55,  -3.05,  -1.95,   0.7 ,   0.45,   7.3 ],\n",
       "       [  7.  ,  -1.8 ,  -2.75, -12.8 ,  -2.75,  -4.9 ,  -1.75],\n",
       "       [  1.95,   0.9 ,  -0.15,   1.  ,  -0.65,   1.  , -16.15],\n",
       "       [ -1.35,  -0.55,  -1.7 ,  -1.1 ,   3.5 ,  -3.  ,  11.  ],\n",
       "       [  3.45,  -0.05,  -1.05,  -0.45,  -4.6 ,  -0.5 ,   1.4 ]])"
      ]
     },
     "execution_count": 25,
     "metadata": {},
     "output_type": "execute_result"
    }
   ],
   "source": [
    "# multiply each element by 5\n",
    "array * 5"
   ]
  },
  {
   "cell_type": "code",
   "execution_count": 31,
   "metadata": {},
   "outputs": [
    {
     "data": {
      "text/plain": [
       "array([[-4.09, -2.  , -2.72, -4.51, -3.58, -1.35, -5.43],\n",
       "       [-3.43, -1.73, -3.87, -3.68, -3.09, -1.51, -3.64],\n",
       "       [-3.44, -3.43, -0.79, -0.81, -2.  , -2.61, -2.26],\n",
       "       [-1.51, -3.94, -1.82, -4.25, -3.64, -2.09, -4.43],\n",
       "       [-3.14, -3.86, -3.26, -5.8 , -4.77, -3.7 , -2.07],\n",
       "       [-3.17, -3.  , -2.31, -3.88, -2.72, -3.81, -4.73],\n",
       "       [-3.39, -2.43, -2.66, -3.01, -0.61, -2.59, -2.02],\n",
       "       [-0.76, -4.29, -4.04, -1.26, -3.8 , -2.97, -1.93],\n",
       "       [-2.11, -1.25, -1.5 , -1.93, -3.77, -2.21, -2.69],\n",
       "       [-4.33, -1.58, -2.19, -2.95, -3.23, -4.2 , -2.8 ],\n",
       "       [-2.53, -3.83, -1.84, -4.1 , -5.12, -1.96, -3.4 ],\n",
       "       [-3.13, -3.84, -4.61, -1.74, -3.69, -1.34, -2.19],\n",
       "       [-3.31, -4.09, -3.73, -4.21, -0.91, -2.84, -1.85],\n",
       "       [-4.27, -2.82, -1.82, -3.34, -1.97, -4.08, -4.36],\n",
       "       [-2.62, -3.38, -2.36, -4.98, -2.29, -0.4 , -3.02],\n",
       "       [-2.97, -2.82, -4.86, -2.57, -4.61, -3.43, -1.76],\n",
       "       [-3.74, -2.5 , -1.99, -2.72, -4.37, -3.33, -1.04],\n",
       "       [-5.03, -3.28, -3.55, -2.88, -2.25, -1.39, -3.27],\n",
       "       [-2.19, -2.5 , -2.53, -3.56, -4.  , -4.1 , -3.76],\n",
       "       [-2.68, -2.24, -2.68, -3.55, -1.19, -1.48, -3.35],\n",
       "       [-3.82, -2.87, -1.73, -2.67, -2.44, -3.21, -2.54],\n",
       "       [-1.46, -3.24, -2.86, -2.75, -2.72, -4.41, -4.88],\n",
       "       [-4.02, -2.83, -2.45, -3.53, -1.62, -3.14, -2.98],\n",
       "       [-3.19, -2.87, -2.3 , -2.33, -3.9 , -1.48, -4.1 ],\n",
       "       [-2.92, -3.27, -4.05, -3.08, -3.74, -2.93, -2.6 ],\n",
       "       [-1.53, -2.69, -3.61, -3.39, -2.86, -2.91, -1.54],\n",
       "       [-1.6 , -3.36, -3.55, -5.56, -3.55, -3.98, -3.35],\n",
       "       [-2.61, -2.82, -3.03, -2.8 , -3.13, -2.8 , -6.23],\n",
       "       [-3.27, -3.11, -3.34, -3.22, -2.3 , -3.6 , -0.8 ],\n",
       "       [-2.31, -3.01, -3.21, -3.09, -3.92, -3.1 , -2.72]])"
      ]
     },
     "execution_count": 31,
     "metadata": {},
     "output_type": "execute_result"
    }
   ],
   "source": [
    "# take 3\n",
    "array - 3"
   ]
  },
  {
   "cell_type": "markdown",
   "metadata": {},
   "source": [
    "## Vectorized Operations\n",
    "Like mentioned previously, NumPy is blazingly fast by Python standards. It is fast because it executes its code in pre-compiled C and Fortran that is highly optimized for scientific computing."
   ]
  },
  {
   "cell_type": "code",
   "execution_count": 43,
   "metadata": {
    "collapsed": true
   },
   "outputs": [],
   "source": [
    "# grab the first row\n",
    "row = array[:, 0]\n",
    "some_list = list(row)"
   ]
  },
  {
   "cell_type": "code",
   "execution_count": 44,
   "metadata": {},
   "outputs": [
    {
     "name": "stdout",
     "output_type": "stream",
     "text": [
      "[-0.09000000000000008, 0.57000000000000006, 0.56000000000000005, 2.4900000000000002, 0.85999999999999999, 0.82999999999999996, 0.60999999999999999, 3.2400000000000002, 1.8900000000000001, -0.33000000000000007, 1.47, 0.87, 0.68999999999999995, -0.27000000000000002, 1.3799999999999999, 1.03, 0.26000000000000001, -1.0299999999999998, 1.8100000000000001, 1.3200000000000001, 0.18000000000000005, 2.54, -0.020000000000000018, 0.81000000000000005, 1.0800000000000001, 2.4699999999999998, 2.3999999999999999, 1.3900000000000001, 0.72999999999999998, 1.6899999999999999]\n"
     ]
    }
   ],
   "source": [
    "print([x + 1 for x in some_list])"
   ]
  },
  {
   "cell_type": "code",
   "execution_count": 45,
   "metadata": {},
   "outputs": [
    {
     "data": {
      "text/plain": [
       "array([-0.09,  0.57,  0.56,  2.49,  0.86,  0.83,  0.61,  3.24,  1.89,\n",
       "       -0.33,  1.47,  0.87,  0.69, -0.27,  1.38,  1.03,  0.26, -1.03,\n",
       "        1.81,  1.32,  0.18,  2.54, -0.02,  0.81,  1.08,  2.47,  2.4 ,\n",
       "        1.39,  0.73,  1.69])"
      ]
     },
     "execution_count": 45,
     "metadata": {},
     "output_type": "execute_result"
    }
   ],
   "source": [
    "row + 1"
   ]
  },
  {
   "cell_type": "code",
   "execution_count": 46,
   "metadata": {},
   "outputs": [
    {
     "name": "stdout",
     "output_type": "stream",
     "text": [
      "8.53 µs ± 296 ns per loop (mean ± std. dev. of 7 runs, 100000 loops each)\n"
     ]
    }
   ],
   "source": [
    "%timeit [x + 1 for x in some_list]"
   ]
  },
  {
   "cell_type": "code",
   "execution_count": 47,
   "metadata": {},
   "outputs": [
    {
     "name": "stdout",
     "output_type": "stream",
     "text": [
      "1.17 µs ± 71.2 ns per loop (mean ± std. dev. of 7 runs, 1000000 loops each)\n"
     ]
    }
   ],
   "source": [
    "%timeit row + 1"
   ]
  },
  {
   "cell_type": "markdown",
   "metadata": {},
   "source": [
    "### Applying functions\n",
    "Its easy to apply NumPy functions to all the values"
   ]
  },
  {
   "cell_type": "code",
   "execution_count": 50,
   "metadata": {},
   "outputs": [
    {
     "data": {
      "text/plain": [
       "array([[ 1.09,  1.  ,  0.28,  1.51,  0.58,  1.65,  2.43],\n",
       "       [ 0.43,  1.27,  0.87,  0.68,  0.09,  1.49,  0.64],\n",
       "       [ 0.44,  0.43,  2.21,  2.19,  1.  ,  0.39,  0.74],\n",
       "       [ 1.49,  0.94,  1.18,  1.25,  0.64,  0.91,  1.43],\n",
       "       [ 0.14,  0.86,  0.26,  2.8 ,  1.77,  0.7 ,  0.93],\n",
       "       [ 0.17,  0.  ,  0.69,  0.88,  0.28,  0.81,  1.73],\n",
       "       [ 0.39,  0.57,  0.34,  0.01,  2.39,  0.41,  0.98],\n",
       "       [ 2.24,  1.29,  1.04,  1.74,  0.8 ,  0.03,  1.07],\n",
       "       [ 0.89,  1.75,  1.5 ,  1.07,  0.77,  0.79,  0.31],\n",
       "       [ 1.33,  1.42,  0.81,  0.05,  0.23,  1.2 ,  0.2 ],\n",
       "       [ 0.47,  0.83,  1.16,  1.1 ,  2.12,  1.04,  0.4 ],\n",
       "       [ 0.13,  0.84,  1.61,  1.26,  0.69,  1.66,  0.81],\n",
       "       [ 0.31,  1.09,  0.73,  1.21,  2.09,  0.16,  1.15],\n",
       "       [ 1.27,  0.18,  1.18,  0.34,  1.03,  1.08,  1.36],\n",
       "       [ 0.38,  0.38,  0.64,  1.98,  0.71,  2.6 ,  0.02],\n",
       "       [ 0.03,  0.18,  1.86,  0.43,  1.61,  0.43,  1.24],\n",
       "       [ 0.74,  0.5 ,  1.01,  0.28,  1.37,  0.33,  1.96],\n",
       "       [ 2.03,  0.28,  0.55,  0.12,  0.75,  1.61,  0.27],\n",
       "       [ 0.81,  0.5 ,  0.47,  0.56,  1.  ,  1.1 ,  0.76],\n",
       "       [ 0.32,  0.76,  0.32,  0.55,  1.81,  1.52,  0.35],\n",
       "       [ 0.82,  0.13,  1.27,  0.33,  0.56,  0.21,  0.46],\n",
       "       [ 1.54,  0.24,  0.14,  0.25,  0.28,  1.41,  1.88],\n",
       "       [ 1.02,  0.17,  0.55,  0.53,  1.38,  0.14,  0.02],\n",
       "       [ 0.19,  0.13,  0.7 ,  0.67,  0.9 ,  1.52,  1.1 ],\n",
       "       [ 0.08,  0.27,  1.05,  0.08,  0.74,  0.07,  0.4 ],\n",
       "       [ 1.47,  0.31,  0.61,  0.39,  0.14,  0.09,  1.46],\n",
       "       [ 1.4 ,  0.36,  0.55,  2.56,  0.55,  0.98,  0.35],\n",
       "       [ 0.39,  0.18,  0.03,  0.2 ,  0.13,  0.2 ,  3.23],\n",
       "       [ 0.27,  0.11,  0.34,  0.22,  0.7 ,  0.6 ,  2.2 ],\n",
       "       [ 0.69,  0.01,  0.21,  0.09,  0.92,  0.1 ,  0.28]])"
      ]
     },
     "execution_count": 50,
     "metadata": {},
     "output_type": "execute_result"
    }
   ],
   "source": [
    "# absolute value\n",
    "np.abs(array)"
   ]
  },
  {
   "cell_type": "code",
   "execution_count": 52,
   "metadata": {},
   "outputs": [
    {
     "data": {
      "text/plain": [
       "array([[ 1.04,  1.  ,  0.53,  1.23,  0.76,  1.28,  1.56],\n",
       "       [ 0.66,  1.13,  0.93,  0.82,  0.3 ,  1.22,  0.8 ],\n",
       "       [ 0.66,  0.66,  1.49,  1.48,  1.  ,  0.62,  0.86],\n",
       "       [ 1.22,  0.97,  1.09,  1.12,  0.8 ,  0.95,  1.2 ],\n",
       "       [ 0.37,  0.93,  0.51,  1.67,  1.33,  0.84,  0.96],\n",
       "       [ 0.41,  0.  ,  0.83,  0.94,  0.53,  0.9 ,  1.32],\n",
       "       [ 0.62,  0.75,  0.58,  0.1 ,  1.55,  0.64,  0.99],\n",
       "       [ 1.5 ,  1.14,  1.02,  1.32,  0.89,  0.17,  1.03],\n",
       "       [ 0.94,  1.32,  1.22,  1.03,  0.88,  0.89,  0.56],\n",
       "       [ 1.15,  1.19,  0.9 ,  0.22,  0.48,  1.1 ,  0.45],\n",
       "       [ 0.69,  0.91,  1.08,  1.05,  1.46,  1.02,  0.63],\n",
       "       [ 0.36,  0.92,  1.27,  1.12,  0.83,  1.29,  0.9 ],\n",
       "       [ 0.56,  1.04,  0.85,  1.1 ,  1.45,  0.4 ,  1.07],\n",
       "       [ 1.13,  0.42,  1.09,  0.58,  1.01,  1.04,  1.17],\n",
       "       [ 0.62,  0.62,  0.8 ,  1.41,  0.84,  1.61,  0.14],\n",
       "       [ 0.17,  0.42,  1.36,  0.66,  1.27,  0.66,  1.11],\n",
       "       [ 0.86,  0.71,  1.  ,  0.53,  1.17,  0.57,  1.4 ],\n",
       "       [ 1.42,  0.53,  0.74,  0.35,  0.87,  1.27,  0.52],\n",
       "       [ 0.9 ,  0.71,  0.69,  0.75,  1.  ,  1.05,  0.87],\n",
       "       [ 0.57,  0.87,  0.57,  0.74,  1.35,  1.23,  0.59],\n",
       "       [ 0.91,  0.36,  1.13,  0.57,  0.75,  0.46,  0.68],\n",
       "       [ 1.24,  0.49,  0.37,  0.5 ,  0.53,  1.19,  1.37],\n",
       "       [ 1.01,  0.41,  0.74,  0.73,  1.17,  0.37,  0.14],\n",
       "       [ 0.44,  0.36,  0.84,  0.82,  0.95,  1.23,  1.05],\n",
       "       [ 0.28,  0.52,  1.02,  0.28,  0.86,  0.26,  0.63],\n",
       "       [ 1.21,  0.56,  0.78,  0.62,  0.37,  0.3 ,  1.21],\n",
       "       [ 1.18,  0.6 ,  0.74,  1.6 ,  0.74,  0.99,  0.59],\n",
       "       [ 0.62,  0.42,  0.17,  0.45,  0.36,  0.45,  1.8 ],\n",
       "       [ 0.52,  0.33,  0.58,  0.47,  0.84,  0.77,  1.48],\n",
       "       [ 0.83,  0.1 ,  0.46,  0.3 ,  0.96,  0.32,  0.53]])"
      ]
     },
     "execution_count": 52,
     "metadata": {},
     "output_type": "execute_result"
    }
   ],
   "source": [
    "np.sqrt(np.abs(array)).round(2)"
   ]
  },
  {
   "cell_type": "code",
   "execution_count": 55,
   "metadata": {},
   "outputs": [
    {
     "data": {
      "text/plain": [
       "2.6600000000000001"
      ]
     },
     "execution_count": 55,
     "metadata": {},
     "output_type": "execute_result"
    }
   ],
   "source": [
    "# sum all elements in the array\n",
    "array.sum()"
   ]
  },
  {
   "cell_type": "code",
   "execution_count": 56,
   "metadata": {},
   "outputs": [
    {
     "data": {
      "text/plain": [
       "2.6600000000000001"
      ]
     },
     "execution_count": 56,
     "metadata": {},
     "output_type": "execute_result"
    }
   ],
   "source": [
    "# Same as function\n",
    "np.sum(array)"
   ]
  },
  {
   "cell_type": "code",
   "execution_count": 58,
   "metadata": {},
   "outputs": [
    {
     "data": {
      "text/plain": [
       "array([-2.68,  0.05,  5.66, -0.68, -5.6 , -2.62,  4.29,  1.95,  5.54,\n",
       "       -0.28, -1.78,  0.46,  0.06, -1.66,  1.95, -2.02,  1.31, -0.65,\n",
       "       -1.64,  3.83,  1.72, -1.32,  0.43,  0.83, -1.59,  2.47, -3.95,\n",
       "       -2.42,  1.36, -0.36])"
      ]
     },
     "execution_count": 58,
     "metadata": {},
     "output_type": "execute_result"
    }
   ],
   "source": [
    "# sum across rows with axis parameter\n",
    "array.sum(axis=1)"
   ]
  },
  {
   "cell_type": "code",
   "execution_count": 60,
   "metadata": {},
   "outputs": [
    {
     "data": {
      "text/plain": [
       "array([ 1.43,  1.12,  4.74, -8.15, -1.79,  7.05, -1.74])"
      ]
     },
     "execution_count": 60,
     "metadata": {},
     "output_type": "execute_result"
    }
   ],
   "source": [
    "# sum down columns\n",
    "array.sum(axis=0)"
   ]
  },
  {
   "cell_type": "code",
   "execution_count": 61,
   "metadata": {},
   "outputs": [
    {
     "data": {
      "text/plain": [
       "array([ 2.24,  1.75,  2.21,  2.19,  2.39,  2.6 ,  2.2 ])"
      ]
     },
     "execution_count": 61,
     "metadata": {},
     "output_type": "execute_result"
    }
   ],
   "source": [
    "# find max of each column\n",
    "array.max(axis=0)"
   ]
  },
  {
   "cell_type": "markdown",
   "metadata": {},
   "source": [
    "## Comparison operators\n",
    "The 6 comparison operators <, >, <=, >=, ==, != work on all elements of the array."
   ]
  },
  {
   "cell_type": "code",
   "execution_count": 62,
   "metadata": {},
   "outputs": [
    {
     "data": {
      "text/plain": [
       "array([[False,  True,  True, False, False,  True, False],\n",
       "       [False,  True, False, False, False,  True, False],\n",
       "       [False, False,  True,  True,  True,  True,  True],\n",
       "       [ True, False,  True, False, False,  True, False],\n",
       "       [False, False, False, False, False, False,  True],\n",
       "       [False, False,  True, False,  True, False, False],\n",
       "       [False,  True,  True, False,  True,  True,  True],\n",
       "       [ True, False, False,  True, False,  True,  True],\n",
       "       [ True,  True,  True,  True, False,  True,  True],\n",
       "       [False,  True,  True,  True, False, False,  True],\n",
       "       [ True, False,  True, False, False,  True, False],\n",
       "       [False, False, False,  True, False,  True,  True],\n",
       "       [False, False, False, False,  True,  True,  True],\n",
       "       [False,  True,  True, False,  True, False, False],\n",
       "       [ True, False,  True, False,  True,  True, False],\n",
       "       [ True,  True, False,  True, False, False,  True],\n",
       "       [False,  True,  True,  True, False, False,  True],\n",
       "       [False, False, False,  True,  True,  True, False],\n",
       "       [ True,  True,  True, False, False, False, False],\n",
       "       [ True,  True,  True, False,  True,  True, False],\n",
       "       [False,  True,  True,  True,  True, False,  True],\n",
       "       [ True, False,  True,  True,  True, False, False],\n",
       "       [False,  True,  True, False,  True, False,  True],\n",
       "       [False,  True,  True,  True, False,  True, False],\n",
       "       [ True, False, False, False, False,  True,  True],\n",
       "       [ True,  True, False, False,  True,  True,  True],\n",
       "       [ True, False, False, False, False, False, False],\n",
       "       [ True,  True, False,  True, False,  True, False],\n",
       "       [False, False, False, False,  True, False,  True],\n",
       "       [ True, False, False, False, False, False,  True]], dtype=bool)"
      ]
     },
     "execution_count": 62,
     "metadata": {},
     "output_type": "execute_result"
    }
   ],
   "source": [
    "array > 0"
   ]
  },
  {
   "cell_type": "code",
   "execution_count": 63,
   "metadata": {},
   "outputs": [
    {
     "data": {
      "text/plain": [
       "104"
      ]
     },
     "execution_count": 63,
     "metadata": {},
     "output_type": "execute_result"
    }
   ],
   "source": [
    "# find out how many values are greater than 0\n",
    "np.sum(array > 0)"
   ]
  },
  {
   "cell_type": "code",
   "execution_count": 65,
   "metadata": {},
   "outputs": [
    {
     "data": {
      "text/plain": [
       "0.49523809523809526"
      ]
     },
     "execution_count": 65,
     "metadata": {},
     "output_type": "execute_result"
    }
   ],
   "source": [
    "# find percentage of values greater than 0\n",
    "np.mean(array > 0)"
   ]
  },
  {
   "cell_type": "code",
   "execution_count": 66,
   "metadata": {},
   "outputs": [
    {
     "data": {
      "text/plain": [
       "array([[ True,  True,  True,  True,  True,  True, False],\n",
       "       [ True,  True,  True,  True,  True,  True,  True],\n",
       "       [ True,  True, False, False,  True,  True,  True],\n",
       "       [ True,  True,  True,  True,  True,  True,  True],\n",
       "       [ True,  True,  True, False,  True,  True,  True],\n",
       "       [ True,  True,  True,  True,  True,  True,  True],\n",
       "       [ True,  True,  True,  True, False,  True,  True],\n",
       "       [False,  True,  True,  True,  True,  True,  True],\n",
       "       [ True,  True,  True,  True,  True,  True,  True],\n",
       "       [ True,  True,  True,  True,  True,  True,  True],\n",
       "       [ True,  True,  True,  True, False,  True,  True],\n",
       "       [ True,  True,  True,  True,  True,  True,  True],\n",
       "       [ True,  True,  True,  True, False,  True,  True],\n",
       "       [ True,  True,  True,  True,  True,  True,  True],\n",
       "       [ True,  True,  True,  True,  True, False,  True],\n",
       "       [ True,  True,  True,  True,  True,  True,  True],\n",
       "       [ True,  True,  True,  True,  True,  True,  True],\n",
       "       [False,  True,  True,  True,  True,  True,  True],\n",
       "       [ True,  True,  True,  True,  True,  True,  True],\n",
       "       [ True,  True,  True,  True,  True,  True,  True],\n",
       "       [ True,  True,  True,  True,  True,  True,  True],\n",
       "       [ True,  True,  True,  True,  True,  True,  True],\n",
       "       [ True,  True,  True,  True,  True,  True,  True],\n",
       "       [ True,  True,  True,  True,  True,  True,  True],\n",
       "       [ True,  True,  True,  True,  True,  True,  True],\n",
       "       [ True,  True,  True,  True,  True,  True,  True],\n",
       "       [ True,  True,  True, False,  True,  True,  True],\n",
       "       [ True,  True,  True,  True,  True,  True, False],\n",
       "       [ True,  True,  True,  True,  True,  True, False],\n",
       "       [ True,  True,  True,  True,  True,  True,  True]], dtype=bool)"
      ]
     },
     "execution_count": 66,
     "metadata": {},
     "output_type": "execute_result"
    }
   ],
   "source": [
    "# find how many are between -2 and 2\n",
    "(array > -2) & (array < 2)"
   ]
  },
  {
   "cell_type": "code",
   "execution_count": 69,
   "metadata": {},
   "outputs": [
    {
     "data": {
      "text/plain": [
       "0.93809523809523809"
      ]
     },
     "execution_count": 69,
     "metadata": {},
     "output_type": "execute_result"
    }
   ],
   "source": [
    "# this should be about 95%\n",
    "((array > -2) & (array < 2)).mean()"
   ]
  },
  {
   "cell_type": "markdown",
   "metadata": {},
   "source": [
    "### Resources\n",
    "+ [NumPy's own tutorial](https://docs.scipy.org/doc/numpy-dev/user/quickstart.html)\n",
    "+ [Datacamp NumPy tutorial](https://docs.scipy.org/doc/numpy-dev/user/quickstart.html)"
   ]
  }
 ],
 "metadata": {
  "kernelspec": {
   "display_name": "Python 3",
   "language": "python",
   "name": "python3"
  },
  "language_info": {
   "codemirror_mode": {
    "name": "ipython",
    "version": 3
   },
   "file_extension": ".py",
   "mimetype": "text/x-python",
   "name": "python",
   "nbconvert_exporter": "python",
   "pygments_lexer": "ipython3",
   "version": "3.6.1"
  }
 },
 "nbformat": 4,
 "nbformat_minor": 2
}
